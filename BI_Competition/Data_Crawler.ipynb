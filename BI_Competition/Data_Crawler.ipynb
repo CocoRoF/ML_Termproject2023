{
 "cells": [
  {
   "cell_type": "code",
   "execution_count": 65,
   "metadata": {},
   "outputs": [],
   "source": [
    "import requests\n",
    "from bs4 import BeautifulSoup\n",
    "import pandas as pd\n",
    "import xml.etree.ElementTree as elementTree\n"
   ]
  },
  {
   "cell_type": "code",
   "execution_count": 82,
   "metadata": {},
   "outputs": [],
   "source": [
    "API_Key = 'dTmlseKULi9karfsRKYbD%2BeqcqRKnNaDe5lL%2ByBpSRf9g%2BTw0Aon1U3DxxDBqBUTNBXQEr1Gob6yWEMrosL20Q%3D%3D'\n",
    "url = 'https://apis.data.go.kr/1220000/Itemtrade/getItemtradeList'\n",
    "start_point = '201701'\n",
    "end_point = '201708'\n",
    "hs_code = '0106191000'"
   ]
  },
  {
   "cell_type": "code",
   "execution_count": 83,
   "metadata": {},
   "outputs": [],
   "source": [
    "get_url = f'{url}?serviceKey={API_Key}&strtYymm={start_point}&endYymm={end_point}&hsSgn={hs_code}'"
   ]
  },
  {
   "cell_type": "code",
   "execution_count": 48,
   "metadata": {},
   "outputs": [],
   "source": [
    "temp = requests.get(get_url)"
   ]
  },
  {
   "cell_type": "code",
   "execution_count": 84,
   "metadata": {},
   "outputs": [
    {
     "name": "stderr",
     "output_type": "stream",
     "text": [
      "c:\\Users\\Jang\\anaconda3\\lib\\site-packages\\urllib3\\connectionpool.py:1045: InsecureRequestWarning: Unverified HTTPS request is being made to host 'apis.data.go.kr'. Adding certificate verification is strongly advised. See: https://urllib3.readthedocs.io/en/1.26.x/advanced-usage.html#ssl-warnings\n",
      "  warnings.warn(\n"
     ]
    }
   ],
   "source": [
    "root = elementTree.fromstring(requests.get(get_url, verify=False).text)\n"
   ]
  },
  {
   "cell_type": "code",
   "execution_count": 98,
   "metadata": {},
   "outputs": [
    {
     "name": "stdout",
     "output_type": "stream",
     "text": [
      "00\n",
      "정상서비스.\n",
      "-174254\n",
      "94676\n",
      "5610\n",
      "0106191000\n",
      "268930\n",
      "2847\n",
      "개\n",
      "2017.01\n",
      "-72881\n",
      "127345\n",
      "3095\n",
      "0106191000\n",
      "200226\n",
      "1757\n",
      "개\n",
      "2017.02\n",
      "-247712\n",
      "130560\n",
      "2859\n",
      "0106191000\n",
      "378272\n",
      "2904\n",
      "개\n",
      "2017.03\n",
      "-221669\n",
      "102721\n",
      "2536\n",
      "0106191000\n",
      "324390\n",
      "2654\n",
      "개\n",
      "2017.04\n",
      "-86518\n",
      "123824\n",
      "2661\n",
      "0106191000\n",
      "210342\n",
      "1592\n",
      "개\n",
      "2017.05\n",
      "-118417\n",
      "132248\n",
      "2696\n",
      "0106191000\n",
      "250665\n",
      "1994\n",
      "개\n",
      "2017.06\n",
      "-94409\n",
      "116130\n",
      "7489\n",
      "0106191000\n",
      "210539\n",
      "2132\n",
      "개\n",
      "2017.07\n",
      "-178909\n",
      "120957\n",
      "2089\n",
      "0106191000\n",
      "299866\n",
      "2255\n",
      "개\n",
      "2017.08\n",
      "-1194769\n",
      "948461\n",
      "29034\n",
      "-\n",
      "2143230\n",
      "18134\n",
      "-\n",
      "총계\n"
     ]
    }
   ],
   "source": [
    "for child in root.itertext():\n",
    "    print(child)"
   ]
  },
  {
   "cell_type": "code",
   "execution_count": 90,
   "metadata": {},
   "outputs": [],
   "source": [
    "a = root[0].get('body')\n",
    "a"
   ]
  },
  {
   "cell_type": "code",
   "execution_count": null,
   "metadata": {},
   "outputs": [],
   "source": []
  }
 ],
 "metadata": {
  "kernelspec": {
   "display_name": "base",
   "language": "python",
   "name": "python3"
  },
  "language_info": {
   "codemirror_mode": {
    "name": "ipython",
    "version": 3
   },
   "file_extension": ".py",
   "mimetype": "text/x-python",
   "name": "python",
   "nbconvert_exporter": "python",
   "pygments_lexer": "ipython3",
   "version": "3.10.9"
  },
  "orig_nbformat": 4
 },
 "nbformat": 4,
 "nbformat_minor": 2
}
